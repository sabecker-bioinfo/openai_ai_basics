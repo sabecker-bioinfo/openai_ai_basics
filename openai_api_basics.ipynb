{
 "cells": [
  {
   "cell_type": "code",
   "execution_count": 4,
   "id": "24c5ff75",
   "metadata": {},
   "outputs": [],
   "source": [
    "import os\n",
    "import openai\n",
    "import json\n",
    "import re\n",
    "import difflib"
   ]
  },
  {
   "cell_type": "code",
   "execution_count": 2,
   "id": "8eb4eb63",
   "metadata": {},
   "outputs": [],
   "source": [
    "# The documentation suggests that the organization string is probably safe to be in the source code.\n",
    "# The key is secret and of course is not safe to include in code.\n",
    "# Both are NOT in the code for now.\n",
    "openai.organization = os.getenv(\"openapi_org\")\n",
    "openai.api_key = os.getenv(\"openapi_key\")"
   ]
  },
  {
   "cell_type": "code",
   "execution_count": 3,
   "id": "dd08fa43",
   "metadata": {},
   "outputs": [
    {
     "name": "stdout",
     "output_type": "stream",
     "text": [
      "Here are all of the models:\n",
      " ['babbage', 'ada', 'davinci', 'text-embedding-ada-002', 'babbage-code-search-code', 'text-similarity-babbage-001', 'text-davinci-001', 'curie-instruct-beta', 'babbage-code-search-text', 'babbage-similarity', 'curie-search-query', 'code-search-babbage-text-001', 'code-cushman-001', 'code-search-babbage-code-001', 'text-ada-001', 'code-davinci-002', 'text-similarity-ada-001', 'text-davinci-insert-002', 'ada-code-search-code', 'text-davinci-002', 'ada-similarity', 'code-search-ada-text-001', 'text-search-ada-query-001', 'text-curie-001', 'text-davinci-edit-001', 'davinci-search-document', 'ada-code-search-text', 'text-search-ada-doc-001', 'code-davinci-edit-001', 'davinci-instruct-beta', 'text-babbage-001', 'text-similarity-curie-001', 'code-search-ada-code-001', 'ada-search-query', 'text-search-davinci-query-001', 'curie-similarity', 'davinci-search-query', 'text-davinci-insert-001', 'babbage-search-document', 'ada-search-document', 'curie', 'text-search-babbage-doc-001', 'text-search-curie-doc-001', 'text-search-curie-query-001', 'babbage-search-query', 'text-search-davinci-doc-001', 'text-search-babbage-query-001', 'curie-search-document', 'text-similarity-davinci-001', 'audio-transcribe-001', 'text-davinci-003', 'davinci-similarity', 'cushman:2020-05-03', 'ada:2020-05-03', 'babbage:2020-05-03', 'curie:2020-05-03', 'davinci:2020-05-03', 'if-davinci-v2', 'if-curie-v2', 'if-davinci:3.0.0', 'davinci-if:3.0.0', 'davinci-instruct-beta:2.0.0', 'text-ada:001', 'text-davinci:001', 'text-curie:001', 'text-babbage:001']\n",
      "\n",
      "These models may be useful for tasks with code:\n",
      " ['babbage-code-search-code', 'babbage-code-search-text', 'code-search-babbage-text-001', 'code-cushman-001', 'code-search-babbage-code-001', 'code-davinci-002', 'ada-code-search-code', 'code-search-ada-text-001', 'ada-code-search-text', 'code-davinci-edit-001', 'code-search-ada-code-001']\n"
     ]
    }
   ],
   "source": [
    "# Probably the simplest call is to list the available models.\n",
    "openai_models = openai.Model.list()\n",
    "openai_models_json = json.loads(str(openai_models))\n",
    "openai_models_json['data'][0]\n",
    "available_models = []\n",
    "for rec in openai_models_json['data']:\n",
    "    available_models.append(rec['id'])\n",
    "print(\"Here are all of the models:\\n\", available_models)\n",
    "\n",
    "code_regex = re.compile(\"code\")\n",
    "code_models = list(filter(code_regex.search, available_models))\n",
    "print(\"\\nThese models may be useful for tasks with code:\\n\", code_models)\n"
   ]
  },
  {
   "cell_type": "code",
   "execution_count": 11,
   "id": "d3476f85",
   "metadata": {},
   "outputs": [
    {
     "data": {
      "text/plain": [
       "['text-davinci-003']"
      ]
     },
     "execution_count": 11,
     "metadata": {},
     "output_type": "execute_result"
    }
   ],
   "source": [
    "# The model ids could easily be mistyped. Here is a helper function to find the closest to a user input.\n",
    "def closest_model_id(models, user_input):\n",
    "    best_guess = difflib.get_close_matches(user_input, models, cutoff=0.8, n=1)\n",
    "    return(best_guess)\n",
    "\n",
    "closest_model_id(available_models, \"text-davinci-03\")"
   ]
  },
  {
   "cell_type": "code",
   "execution_count": 18,
   "id": "fce2d16d",
   "metadata": {},
   "outputs": [
    {
     "name": "stdout",
     "output_type": "stream",
     "text": [
      "Prompt:\n",
      " Write a paragraph explaining the history of the bioinformatics field. \n",
      "Model:\n",
      " ['text-davinci-003']\n",
      "\n",
      "Response:\n",
      " {\n",
      "  \"choices\": [\n",
      "    {\n",
      "      \"finish_reason\": \"stop\",\n",
      "      \"index\": 0,\n",
      "      \"logprobs\": null,\n",
      "      \"text\": \"\\n\\nBioinformatics is a relatively young field that has come about as the result of the convergence of several disciplines, including biology, computer science, mathematics, and engineering. It began in the 1970s when scientists first started to use computers to store and analyze biological data. Since then, the field has grown rapidly, as new technologies and techniques have been developed to store and analyze ever larger and more complex data sets. Today, bioinformatics is used in many fields of research, from basic research in genetics and molecular biology, to medical research, to agriculture and food production, to the development of new drugs and therapies. It is becoming increasingly important for research and development in many areas, as our understanding of the complexity of life grows.\"\n",
      "    }\n",
      "  ],\n",
      "  \"created\": 1674247059,\n",
      "  \"id\": \"cmpl-6asQls8uJnRitUjft8Z3wTim1uNcC\",\n",
      "  \"model\": \"text-davinci-003\",\n",
      "  \"object\": \"text_completion\",\n",
      "  \"usage\": {\n",
      "    \"completion_tokens\": 150,\n",
      "    \"prompt_tokens\": 14,\n",
      "    \"total_tokens\": 164\n",
      "  }\n",
      "}\n"
     ]
    }
   ],
   "source": [
    "# Let's see if the ai knows the history of the bioinformatics field.\n",
    "bioinformatics_history_prompt = \"Write a paragraph explaining the history of the bioinformatics field.\"\n",
    "bioinformatics_history_model = closest_model_id(available_models, \"text-davinci-003\")\n",
    "# TODO: determine how to pass these variables into the openai.Completion.create call\n",
    "print(\"Prompt:\\n\", bioinformatics_history_prompt, \"\\nModel:\\n\", bioinformatics_history_model)\n",
    "bioinformatics_history_response = openai.Completion.create(\n",
    "  model=\"text-davinci-003\",\n",
    "  prompt=\"Write a paragraph explaining the history of the bioinformatics field.\",\n",
    "  temperature=0.7,\n",
    "  max_tokens=256,\n",
    "  top_p=1,\n",
    "  frequency_penalty=0,\n",
    "  presence_penalty=0,\n",
    ")\n",
    "\n",
    "\n",
    "\n",
    "print(\"\\nResponse:\\n\", bioinformatics_history_response)"
   ]
  },
  {
   "cell_type": "code",
   "execution_count": 27,
   "id": "42e18a2e",
   "metadata": {},
   "outputs": [
    {
     "name": "stdout",
     "output_type": "stream",
     "text": [
      "Bioinformatics is a relatively young field that has come about as the result of the convergence of several disciplines, including biology, computer science, mathematics, and engineering. It began in the 1970s when scientists first started to use computers to store and analyze biological data. Since then, the field has grown rapidly, as new technologies and techniques have been developed to store and analyze ever larger and more complex data sets. Today, bioinformatics is used in many fields of research, from basic research in genetics and molecular biology, to medical research, to agriculture and food production, to the development of new drugs and therapies. It is becoming increasingly important for research and development in many areas, as our understanding of the complexity of life grows.\n"
     ]
    }
   ],
   "source": [
    "print(json.loads(str(bioinformatics_history_response))['choices'][0]['text'].lstrip('\\n'))\n",
    "# TODO: format properly so that the lines don't break in the middle of words"
   ]
  },
  {
   "cell_type": "code",
   "execution_count": null,
   "id": "e09cabcb",
   "metadata": {},
   "outputs": [],
   "source": []
  }
 ],
 "metadata": {
  "kernelspec": {
   "display_name": "Python 3 (ipykernel)",
   "language": "python",
   "name": "python3"
  },
  "language_info": {
   "codemirror_mode": {
    "name": "ipython",
    "version": 3
   },
   "file_extension": ".py",
   "mimetype": "text/x-python",
   "name": "python",
   "nbconvert_exporter": "python",
   "pygments_lexer": "ipython3",
   "version": "3.11.0"
  }
 },
 "nbformat": 4,
 "nbformat_minor": 5
}
