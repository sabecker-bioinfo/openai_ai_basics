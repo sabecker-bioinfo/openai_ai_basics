{
 "cells": [
  {
   "cell_type": "code",
   "execution_count": 4,
   "id": "24c5ff75",
   "metadata": {},
   "outputs": [],
   "source": [
    "import os\n",
    "import openai\n",
    "import json\n",
    "import re\n",
    "import difflib"
   ]
  },
  {
   "cell_type": "code",
   "execution_count": 2,
   "id": "8eb4eb63",
   "metadata": {},
   "outputs": [],
   "source": [
    "# The documentation suggests that the organization string is probably safe to be in the source code.\n",
    "# The key is secret and of course is not safe to include in code.\n",
    "# Both are NOT in the code for now.\n",
    "openai.organization = os.getenv(\"openapi_org\")\n",
    "openai.api_key = os.getenv(\"openapi_key\")"
   ]
  },
  {
   "cell_type": "code",
   "execution_count": 3,
   "id": "dd08fa43",
   "metadata": {},
   "outputs": [
    {
     "name": "stdout",
     "output_type": "stream",
     "text": [
      "Here are all of the models:\n",
      " ['babbage', 'ada', 'davinci', 'text-embedding-ada-002', 'babbage-code-search-code', 'text-similarity-babbage-001', 'text-davinci-001', 'curie-instruct-beta', 'babbage-code-search-text', 'babbage-similarity', 'curie-search-query', 'code-search-babbage-text-001', 'code-cushman-001', 'code-search-babbage-code-001', 'text-ada-001', 'code-davinci-002', 'text-similarity-ada-001', 'text-davinci-insert-002', 'ada-code-search-code', 'text-davinci-002', 'ada-similarity', 'code-search-ada-text-001', 'text-search-ada-query-001', 'text-curie-001', 'text-davinci-edit-001', 'davinci-search-document', 'ada-code-search-text', 'text-search-ada-doc-001', 'code-davinci-edit-001', 'davinci-instruct-beta', 'text-babbage-001', 'text-similarity-curie-001', 'code-search-ada-code-001', 'ada-search-query', 'text-search-davinci-query-001', 'curie-similarity', 'davinci-search-query', 'text-davinci-insert-001', 'babbage-search-document', 'ada-search-document', 'curie', 'text-search-babbage-doc-001', 'text-search-curie-doc-001', 'text-search-curie-query-001', 'babbage-search-query', 'text-search-davinci-doc-001', 'text-search-babbage-query-001', 'curie-search-document', 'text-similarity-davinci-001', 'audio-transcribe-001', 'text-davinci-003', 'davinci-similarity', 'cushman:2020-05-03', 'ada:2020-05-03', 'babbage:2020-05-03', 'curie:2020-05-03', 'davinci:2020-05-03', 'if-davinci-v2', 'if-curie-v2', 'if-davinci:3.0.0', 'davinci-if:3.0.0', 'davinci-instruct-beta:2.0.0', 'text-ada:001', 'text-davinci:001', 'text-curie:001', 'text-babbage:001']\n",
      "\n",
      "These models may be useful for tasks with code:\n",
      " ['babbage-code-search-code', 'babbage-code-search-text', 'code-search-babbage-text-001', 'code-cushman-001', 'code-search-babbage-code-001', 'code-davinci-002', 'ada-code-search-code', 'code-search-ada-text-001', 'ada-code-search-text', 'code-davinci-edit-001', 'code-search-ada-code-001']\n"
     ]
    }
   ],
   "source": [
    "# Probably the simplest call is to list the available models.\n",
    "openai_models = openai.Model.list()\n",
    "openai_models_json = json.loads(str(openai_models))\n",
    "openai_models_json['data'][0]\n",
    "available_models = []\n",
    "for rec in openai_models_json['data']:\n",
    "    available_models.append(rec['id'])\n",
    "print(\"Here are all of the models:\\n\", available_models)\n",
    "\n",
    "code_regex = re.compile(\"code\")\n",
    "code_models = list(filter(code_regex.search, available_models))\n",
    "print(\"\\nThese models may be useful for tasks with code:\\n\", code_models)\n"
   ]
  },
  {
   "cell_type": "code",
   "execution_count": 11,
   "id": "d3476f85",
   "metadata": {},
   "outputs": [
    {
     "data": {
      "text/plain": [
       "['text-davinci-003']"
      ]
     },
     "execution_count": 11,
     "metadata": {},
     "output_type": "execute_result"
    }
   ],
   "source": [
    "# The model ids could easily be mistyped. Here is a helper function to find the closest to a user input.\n",
    "def closest_model_id(models, user_input):\n",
    "    best_guess = difflib.get_close_matches(user_input, models, cutoff=0.8, n=1)\n",
    "    return(best_guess)\n",
    "\n",
    "closest_model_id(available_models, \"text-davinci-03\")"
   ]
  },
  {
   "cell_type": "code",
   "execution_count": 18,
   "id": "12fb293a",
   "metadata": {},
   "outputs": [
    {
     "name": "stdout",
     "output_type": "stream",
     "text": [
      "Prompt:\n",
      " Write a paragraph explaining the history of the bioinformatics field. \n",
      "Model:\n",
      " ['text-davinci-003']\n",
      "\n",
      "Response:\n",
      " {\n",
      "  \"choices\": [\n",
      "    {\n",
      "      \"finish_reason\": \"stop\",\n",
      "      \"index\": 0,\n",
      "      \"logprobs\": null,\n",
      "      \"text\": \"\\n\\nBioinformatics is a relatively young field that has come about as the result of the convergence of several disciplines, including biology, computer science, mathematics, and engineering. It began in the 1970s when scientists first started to use computers to store and analyze biological data. Since then, the field has grown rapidly, as new technologies and techniques have been developed to store and analyze ever larger and more complex data sets. Today, bioinformatics is used in many fields of research, from basic research in genetics and molecular biology, to medical research, to agriculture and food production, to the development of new drugs and therapies. It is becoming increasingly important for research and development in many areas, as our understanding of the complexity of life grows.\"\n",
      "    }\n",
      "  ],\n",
      "  \"created\": 1674247059,\n",
      "  \"id\": \"cmpl-6asQls8uJnRitUjft8Z3wTim1uNcC\",\n",
      "  \"model\": \"text-davinci-003\",\n",
      "  \"object\": \"text_completion\",\n",
      "  \"usage\": {\n",
      "    \"completion_tokens\": 150,\n",
      "    \"prompt_tokens\": 14,\n",
      "    \"total_tokens\": 164\n",
      "  }\n",
      "}\n"
     ]
    }
   ],
   "source": [
    "# Let's see if the ai knows the history of the bioinformatics field.\n",
    "bioinformatics_history_prompt = \"Write a paragraph explaining the history of the bioinformatics field.\"\n",
    "bioinformatics_history_model = closest_model_id(available_models, \"text-davinci-003\")\n",
    "# TODO: determine how to pass these variables into the openai.Completion.create call\n",
    "print(\"Prompt:\\n\", bioinformatics_history_prompt, \"\\nModel:\\n\", bioinformatics_history_model)\n",
    "bioinformatics_history_response = openai.Completion.create(\n",
    "  model=\"text-davinci-003\",\n",
    "  prompt=\"Write a paragraph explaining the history of the bioinformatics field.\",\n",
    "  temperature=0.7,\n",
    "  max_tokens=256,\n",
    "  top_p=1,\n",
    "  frequency_penalty=0,\n",
    "  presence_penalty=0,\n",
    ")\n",
    "\n",
    "\n",
    "\n",
    "print(\"\\nResponse:\\n\", bioinformatics_history_response)"
   ]
  },
  {
   "cell_type": "code",
   "execution_count": 27,
   "id": "179b298c",
   "metadata": {},
   "outputs": [
    {
     "name": "stdout",
     "output_type": "stream",
     "text": [
      "Bioinformatics is a relatively young field that has come about as the result of the convergence of several disciplines, including biology, computer science, mathematics, and engineering. It began in the 1970s when scientists first started to use computers to store and analyze biological data. Since then, the field has grown rapidly, as new technologies and techniques have been developed to store and analyze ever larger and more complex data sets. Today, bioinformatics is used in many fields of research, from basic research in genetics and molecular biology, to medical research, to agriculture and food production, to the development of new drugs and therapies. It is becoming increasingly important for research and development in many areas, as our understanding of the complexity of life grows.\n"
     ]
    }
   ],
   "source": [
    "print(json.loads(str(bioinformatics_history_response))['choices'][0]['text'].lstrip('\\n'))\n",
    "# TODO: format properly so that the lines don't break in the middle of words"
   ]
  },
  {
   "cell_type": "code",
   "execution_count": 30,
   "id": "0b72df16",
   "metadata": {},
   "outputs": [
    {
     "name": "stdout",
     "output_type": "stream",
     "text": [
      "{\n",
      "  \"choices\": [\n",
      "    {\n",
      "      \"finish_reason\": \"stop\",\n",
      "      \"index\": 0,\n",
      "      \"logprobs\": null,\n",
      "      \"text\": \"\\n\\nfrom Bio.Seq import Seq\\nfrom Bio.Alphabet import IUPAC\\n\\ndna = Seq(\\\"ATGGCCATTGTAATGGGCCGCTGAAAGGGTGCCCGATAG\\\", IUPAC.unambiguous_dna)\\n\\nprint(dna.translate())\"\n",
      "    }\n",
      "  ],\n",
      "  \"created\": 1674253048,\n",
      "  \"id\": \"cmpl-6atzM5mgBQPOxL0AP8jQqO9D53VNA\",\n",
      "  \"model\": \"code-davinci-002\",\n",
      "  \"object\": \"text_completion\",\n",
      "  \"usage\": {\n",
      "    \"completion_tokens\": 71,\n",
      "    \"prompt_tokens\": 21,\n",
      "    \"total_tokens\": 92\n",
      "  }\n",
      "}\n"
     ]
    }
   ],
   "source": [
    "# Let's do some real bioinformatics.\n",
    "translate_to_protein_response = openai.Completion.create(\n",
    "  model=\"code-davinci-002\",\n",
    "  prompt=\"\\\"\\\"\\\"\\nWrite a python script that uses biopython to translate a DNA sequence to protein.\\n\\\"\\\"\\\"\",\n",
    "  temperature=0,\n",
    "  max_tokens=256,\n",
    "  top_p=1,\n",
    "  frequency_penalty=0,\n",
    "  presence_penalty=0\n",
    ")\n",
    "\n",
    "print(translate_to_protein_response)"
   ]
  },
  {
   "cell_type": "code",
   "execution_count": 31,
   "id": "56aa77ca",
   "metadata": {},
   "outputs": [
    {
     "name": "stdout",
     "output_type": "stream",
     "text": [
      "from Bio.Seq import Seq\n",
      "from Bio.Alphabet import IUPAC\n",
      "\n",
      "dna = Seq(\"ATGGCCATTGTAATGGGCCGCTGAAAGGGTGCCCGATAG\", IUPAC.unambiguous_dna)\n",
      "\n",
      "print(dna.translate())\n"
     ]
    }
   ],
   "source": [
    "print(json.loads(str(translate_to_protein_response))['choices'][0]['text'].lstrip('\\n'))"
   ]
  },
  {
   "cell_type": "code",
   "execution_count": 37,
   "id": "89f41088",
   "metadata": {},
   "outputs": [
    {
     "ename": "ImportError",
     "evalue": "Bio.Alphabet has been removed from Biopython. In many cases, the alphabet can simply be ignored and removed from scripts. In a few cases, you may need to specify the ``molecule_type`` as an annotation on a SeqRecord for your script to work correctly. Please see https://biopython.org/wiki/Alphabet for more information.",
     "output_type": "error",
     "traceback": [
      "\u001b[0;31m---------------------------------------------------------------------------\u001b[0m",
      "\u001b[0;31mImportError\u001b[0m                               Traceback (most recent call last)",
      "Cell \u001b[0;32mIn[37], line 2\u001b[0m\n\u001b[1;32m      1\u001b[0m \u001b[38;5;66;03m# The code doesn't appear to be dangerous, so let's try executing it.\u001b[39;00m\n\u001b[0;32m----> 2\u001b[0m \u001b[43mexec\u001b[49m\u001b[43m(\u001b[49m\u001b[43mjson\u001b[49m\u001b[38;5;241;43m.\u001b[39;49m\u001b[43mloads\u001b[49m\u001b[43m(\u001b[49m\u001b[38;5;28;43mstr\u001b[39;49m\u001b[43m(\u001b[49m\u001b[43mtranslate_to_protein_response\u001b[49m\u001b[43m)\u001b[49m\u001b[43m)\u001b[49m\u001b[43m[\u001b[49m\u001b[38;5;124;43m'\u001b[39;49m\u001b[38;5;124;43mchoices\u001b[39;49m\u001b[38;5;124;43m'\u001b[39;49m\u001b[43m]\u001b[49m\u001b[43m[\u001b[49m\u001b[38;5;241;43m0\u001b[39;49m\u001b[43m]\u001b[49m\u001b[43m[\u001b[49m\u001b[38;5;124;43m'\u001b[39;49m\u001b[38;5;124;43mtext\u001b[39;49m\u001b[38;5;124;43m'\u001b[39;49m\u001b[43m]\u001b[49m\u001b[38;5;241;43m.\u001b[39;49m\u001b[43mlstrip\u001b[49m\u001b[43m(\u001b[49m\u001b[38;5;124;43m'\u001b[39;49m\u001b[38;5;130;43;01m\\n\u001b[39;49;00m\u001b[38;5;124;43m'\u001b[39;49m\u001b[43m)\u001b[49m\u001b[43m)\u001b[49m\n",
      "File \u001b[0;32m<string>:2\u001b[0m\n",
      "File \u001b[0;32m~/opt/anaconda3/envs/openai/lib/python3.11/site-packages/Bio/Alphabet/__init__.py:20\u001b[0m\n\u001b[1;32m      1\u001b[0m \u001b[38;5;66;03m# Copyright 2000-2002 by Andrew Dalke.\u001b[39;00m\n\u001b[1;32m      2\u001b[0m \u001b[38;5;66;03m# Revisions copyright 2007-2010 by Peter Cock.\u001b[39;00m\n\u001b[1;32m      3\u001b[0m \u001b[38;5;66;03m# All rights reserved.\u001b[39;00m\n\u001b[0;32m   (...)\u001b[0m\n\u001b[1;32m      7\u001b[0m \u001b[38;5;66;03m# Please see the LICENSE file that should have been included as part of this\u001b[39;00m\n\u001b[1;32m      8\u001b[0m \u001b[38;5;66;03m# package.\u001b[39;00m\n\u001b[1;32m      9\u001b[0m \u001b[38;5;124;03m\"\"\"Alphabets were previously used to declare sequence type and letters (OBSOLETE).\u001b[39;00m\n\u001b[1;32m     10\u001b[0m \n\u001b[1;32m     11\u001b[0m \u001b[38;5;124;03mThe design of Bio.Aphabet included a number of historic design choices\u001b[39;00m\n\u001b[0;32m   (...)\u001b[0m\n\u001b[1;32m     17\u001b[0m \u001b[38;5;124;03mtransition from Bio.Alphabet to molecule type annotations.\u001b[39;00m\n\u001b[1;32m     18\u001b[0m \u001b[38;5;124;03m\"\"\"\u001b[39;00m\n\u001b[0;32m---> 20\u001b[0m \u001b[38;5;28;01mraise\u001b[39;00m \u001b[38;5;167;01mImportError\u001b[39;00m(\n\u001b[1;32m     21\u001b[0m     \u001b[38;5;124m\"\u001b[39m\u001b[38;5;124mBio.Alphabet has been removed from Biopython. In many cases, the alphabet can simply be ignored and removed from scripts. In a few cases, you may need to specify the ``molecule_type`` as an annotation on a SeqRecord for your script to work correctly. Please see https://biopython.org/wiki/Alphabet for more information.\u001b[39m\u001b[38;5;124m\"\u001b[39m\n\u001b[1;32m     22\u001b[0m )\n",
      "\u001b[0;31mImportError\u001b[0m: Bio.Alphabet has been removed from Biopython. In many cases, the alphabet can simply be ignored and removed from scripts. In a few cases, you may need to specify the ``molecule_type`` as an annotation on a SeqRecord for your script to work correctly. Please see https://biopython.org/wiki/Alphabet for more information."
     ]
    }
   ],
   "source": [
    "# The code doesn't appear to be dangerous, so let's try executing it.\n",
    "exec(json.loads(str(translate_to_protein_response))['choices'][0]['text'].lstrip('\\n'))"
   ]
  },
  {
   "cell_type": "code",
   "execution_count": 38,
   "id": "5b18ba12",
   "metadata": {},
   "outputs": [
    {
     "name": "stdout",
     "output_type": "stream",
     "text": [
      "MAIVMGR*KGAR*\n"
     ]
    }
   ],
   "source": [
    "# Looks like this code recommendation is obsolete. Maybe we can copy + paste and remove the alphabet bit.\n",
    "from Bio.Seq import Seq\n",
    "\n",
    "dna = Seq(\"ATGGCCATTGTAATGGGCCGCTGAAAGGGTGCCCGATAG\")\n",
    "\n",
    "print(dna.translate())"
   ]
  },
  {
   "cell_type": "markdown",
   "id": "eb460c2a",
   "metadata": {},
   "source": [
    "Now that is interesting - with a very minor simplification, the code runs properly. One interesting question would be why the AI chose to include a stop codon in the middle of the random sequence it generated."
   ]
  }
 ],
 "metadata": {
  "kernelspec": {
   "display_name": "Python 3 (ipykernel)",
   "language": "python",
   "name": "python3"
  },
  "language_info": {
   "codemirror_mode": {
    "name": "ipython",
    "version": 3
   },
   "file_extension": ".py",
   "mimetype": "text/x-python",
   "name": "python",
   "nbconvert_exporter": "python",
   "pygments_lexer": "ipython3",
   "version": "3.11.0"
  }
 },
 "nbformat": 4,
 "nbformat_minor": 5
}
